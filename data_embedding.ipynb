{
 "cells": [
  {
   "cell_type": "markdown",
   "id": "083962d8",
   "metadata": {},
   "source": [
    "## Embeddings "
   ]
  },
  {
   "cell_type": "code",
   "execution_count": null,
   "id": "86d9ca71",
   "metadata": {},
   "outputs": [
    {
     "ename": "FileNotFoundError",
     "evalue": "[WinError 3] El sistema no puede encontrar la ruta especificada: '/TFG/Gait_Embeddings_good/'",
     "output_type": "error",
     "traceback": [
      "\u001b[1;31m---------------------------------------------------------------------------\u001b[0m",
      "\u001b[1;31mFileNotFoundError\u001b[0m                         Traceback (most recent call last)",
      "Cell \u001b[1;32mIn[2], line 8\u001b[0m\n\u001b[0;32m      5\u001b[0m data_dir \u001b[38;5;241m=\u001b[39m \u001b[38;5;124m'\u001b[39m\u001b[38;5;124m/TFG/Gait_Embeddings_good/\u001b[39m\u001b[38;5;124m'\u001b[39m\n\u001b[0;32m      7\u001b[0m \u001b[38;5;66;03m# 2. Listar sólo los archivos .csv\u001b[39;00m\n\u001b[1;32m----> 8\u001b[0m csv_files \u001b[38;5;241m=\u001b[39m [f \u001b[38;5;28;01mfor\u001b[39;00m f \u001b[38;5;129;01min\u001b[39;00m \u001b[43mos\u001b[49m\u001b[38;5;241;43m.\u001b[39;49m\u001b[43mlistdir\u001b[49m\u001b[43m(\u001b[49m\u001b[43mdata_dir\u001b[49m\u001b[43m)\u001b[49m \u001b[38;5;28;01mif\u001b[39;00m f\u001b[38;5;241m.\u001b[39mendswith(\u001b[38;5;124m'\u001b[39m\u001b[38;5;124m.csv\u001b[39m\u001b[38;5;124m'\u001b[39m)]\n\u001b[0;32m      9\u001b[0m \u001b[38;5;28mprint\u001b[39m(\u001b[38;5;124m\"\u001b[39m\u001b[38;5;124mArchivos encontrados:\u001b[39m\u001b[38;5;124m\"\u001b[39m, csv_files)\n\u001b[0;32m     11\u001b[0m \u001b[38;5;66;03m# 3. Leer cada CSV en un DataFrame de pandas\u001b[39;00m\n",
      "\u001b[1;31mFileNotFoundError\u001b[0m: [WinError 3] El sistema no puede encontrar la ruta especificada: '/TFG/Gait_Embeddings_good/'"
     ]
    }
   ],
   "source": [
    "import os\n",
    "import pandas as pd\n",
    "\n",
    "# 1. Directorio con los CSV\n",
    "data_dir = \"Gait_Embeddings_good/\"\n",
    "\n",
    "# 2. Listar sólo los archivos .csv\n",
    "csv_files = [f for f in os.listdir(data_dir) if f.endswith('.csv')]\n",
    "print(\"Archivos encontrados:\", csv_files)\n",
    "\n",
    "# 3. Leer cada CSV en un DataFrame de pandas\n",
    "dfs = {}\n",
    "for fname in csv_files:\n",
    "    path = os.path.join(data_dir, fname)\n",
    "    dfs[fname] = pd.read_csv(path)\n",
    "\n",
    "# 4. Explorar cada DataFrame\n",
    "for name, df in dfs.items():\n",
    "    print(f\"\\n=== {name} ===\")\n",
    "    print(\"Shape:\", df.shape)                  # filas × columnas\n",
    "    print(\"Columnas:\", df.columns.tolist())    # lista de nombres\n",
    "    print(\"Primeras 5 filas:\")\n",
    "    print(df.head().to_string(index=False))    # muestra las primeras filas\n",
    "\n",
    "    # Opcional: ver tipo de datos y memoria\n",
    "    print(\"\\nInfo:\")\n",
    "    print(df.info())\n",
    "    print(\"\\nDescripción estadística de columnas numéricas:\")\n",
    "    print(df.describe().T)  # transpuesta para leer mejor\n"
   ]
  }
 ],
 "metadata": {
  "kernelspec": {
   "display_name": "pln",
   "language": "python",
   "name": "python3"
  },
  "language_info": {
   "codemirror_mode": {
    "name": "ipython",
    "version": 3
   },
   "file_extension": ".py",
   "mimetype": "text/x-python",
   "name": "python",
   "nbconvert_exporter": "python",
   "pygments_lexer": "ipython3",
   "version": "3.11.10"
  }
 },
 "nbformat": 4,
 "nbformat_minor": 5
}
